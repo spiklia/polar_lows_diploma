{
 "cells": [
  {
   "cell_type": "code",
   "execution_count": 33,
   "id": "1c84d266",
   "metadata": {},
   "outputs": [],
   "source": [
    "import wrf\n",
    "import numpy as np\n",
    "import pandas as pd"
   ]
  },
  {
   "cell_type": "code",
   "execution_count": 34,
   "id": "e07aaa78",
   "metadata": {},
   "outputs": [],
   "source": [
    "# загружаем все таймстемпы из атмосферных данных\n",
    "atm_times = np.load('times.npy')\n",
    "atm_times = np.reshape(atm_times, 3551*8)"
   ]
  },
  {
   "cell_type": "code",
   "execution_count": 38,
   "id": "17567462",
   "metadata": {},
   "outputs": [],
   "source": [
    "atm_times_pd = []\n",
    "for i in range(atm_times.shape[0]):\n",
    "    atm_times_pd.append(pd.Timestamp(atm_times[i]))"
   ]
  },
  {
   "cell_type": "code",
   "execution_count": 42,
   "id": "43ce76a9",
   "metadata": {},
   "outputs": [],
   "source": [
    "# загружаем таймстемпы, в которые наблюдались мезоциклоны\n",
    "pd_times = pd.read_csv('tracks_new.csv', index_col=0)\n",
    "\n",
    "pl_times = list(pd.to_datetime(pd_times['datetime']))\n",
    "pd_times.sort_values(by='datetime')"
   ]
  },
  {
   "cell_type": "code",
   "execution_count": 47,
   "id": "2d9f5beb",
   "metadata": {},
   "outputs": [],
   "source": [
    "both = set(atm_times_pd).intersection(pl_times)"
   ]
  },
  {
   "cell_type": "code",
   "execution_count": 51,
   "id": "2cda9089",
   "metadata": {},
   "outputs": [],
   "source": [
    "# отбираем в атмосферных данных индексы таймтемпов, в которые встречались мезоциклоны\n",
    "indices_atm_times_2 = [atm_times_pd.index(x) for x in both]\n",
    "indices_atm_times_2.sort()"
   ]
  },
  {
   "cell_type": "code",
   "execution_count": 55,
   "id": "2a05a356",
   "metadata": {},
   "outputs": [],
   "source": [
    "np.save(arr = indices_atm_times_2, file = 'indices_atm_times_2005_6.npy')"
   ]
  }
 ],
 "metadata": {
  "kernelspec": {
   "display_name": "Python 3 (ipykernel)",
   "language": "python",
   "name": "python3"
  },
  "language_info": {
   "codemirror_mode": {
    "name": "ipython",
    "version": 3
   },
   "file_extension": ".py",
   "mimetype": "text/x-python",
   "name": "python",
   "nbconvert_exporter": "python",
   "pygments_lexer": "ipython3",
   "version": "3.9.13"
  }
 },
 "nbformat": 4,
 "nbformat_minor": 5
}
