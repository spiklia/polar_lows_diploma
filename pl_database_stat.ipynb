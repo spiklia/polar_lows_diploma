{
 "cells": [
  {
   "cell_type": "code",
   "execution_count": null,
   "id": "c07b0fa7",
   "metadata": {},
   "outputs": [],
   "source": [
    "import pandas as pd\n",
    "import numpy as np\n",
    "import wrf\n",
    "import glob\n",
    "import os\n",
    "import netCDF4 as nc\n",
    "import xarray as xr\n",
    "import matplotlib.pyplot as plt\n",
    "from geographiclib.geodesic import Geodesic\n",
    "Geo = Geodesic.WGS84"
   ]
  },
  {
   "cell_type": "code",
   "execution_count": null,
   "id": "bd42287b",
   "metadata": {},
   "outputs": [],
   "source": [
    "df_2004 = pd.read_csv('naad_checked_candidates_2000_2004.csv')\n",
    "df_2004 = df_2004[df_2004['selection'] != 2]\n",
    "df_2005 = pd.read_csv('tracks_new.csv')"
   ]
  },
  {
   "cell_type": "code",
   "execution_count": null,
   "id": "0e44b5d2",
   "metadata": {},
   "outputs": [],
   "source": [
    "df_2005.rename(columns={'datetime':'time','lon0':'cand_lon','lat0':'cand_lat'}, inplace=True)"
   ]
  },
  {
   "cell_type": "code",
   "execution_count": null,
   "id": "2a54b7cc",
   "metadata": {},
   "outputs": [],
   "source": [
    "df_2004_1 = df_2004[['time','cand_lon','cand_lat', 'diam']]\n",
    "df_2005_1 = df_2005[['time','cand_lon','cand_lat', 'diam']]"
   ]
  },
  {
   "cell_type": "code",
   "execution_count": null,
   "id": "15f29da7",
   "metadata": {},
   "outputs": [],
   "source": [
    "df_concat = pd.concat([df_2004_1,df_2005_1])"
   ]
  },
  {
   "cell_type": "code",
   "execution_count": null,
   "id": "d7c079c4",
   "metadata": {},
   "outputs": [],
   "source": [
    "df_concat.sort_values(by='time', inplace=True)"
   ]
  },
  {
   "cell_type": "code",
   "execution_count": null,
   "id": "e329bc55",
   "metadata": {},
   "outputs": [],
   "source": [
    "filedir = '../Data/originals/'\n",
    "filename = []\n",
    "filename += glob.glob(filedir+os.sep+'*_cut.nc')\n",
    "\n",
    "ncdf = nc.Dataset(filename[0],engine='netcdf4')\n",
    "lons = wrf.getvar(ncdf, 'XLONG')\n",
    "lats = wrf.getvar(ncdf, 'XLAT')\n",
    "\n",
    "diams = df_concat['diam']"
   ]
  },
  {
   "cell_type": "code",
   "execution_count": null,
   "id": "3c69156b",
   "metadata": {},
   "outputs": [],
   "source": [
    "atm_times = np.load('times_all.npy')\n",
    "atm_times = np.reshape(atm_times, 3551*8)\n",
    "\n",
    "atm_times_pd = []\n",
    "for i in range(atm_times.shape[0]):\n",
    "    atm_times_pd.append(pd.Timestamp(atm_times[i]))"
   ]
  },
  {
   "cell_type": "code",
   "execution_count": null,
   "id": "2bb44218",
   "metadata": {},
   "outputs": [],
   "source": [
    "mask = xr.open_dataset('../Data/NAAD14km_lsm.nc')\n",
    "\n",
    "mask_lat = (mask.south_north>=467)&(mask.south_north<=549)\n",
    "mask_lon = (mask.west_east>=317)&(mask.west_east<=478)\n",
    "\n",
    "masked_mask = mask.where(mask_lon & mask_lat, drop=True)\n",
    "\n",
    "lats_ = masked_mask['XLAT'].where(masked_mask.lsm==0)[0]\n",
    "lons_ = masked_mask['XLONG'].where(masked_mask.lsm==0)[1]\n",
    "lats1 = lats_[~np.isnan(lats_)]\n",
    "lons1 = lons_[~np.isnan(lons_)]"
   ]
  },
  {
   "cell_type": "code",
   "execution_count": null,
   "id": "30bdeb71",
   "metadata": {},
   "outputs": [],
   "source": [
    "false_sample = pd.DataFrame(index = [i for i in range(1000)], columns = df_concat.columns)"
   ]
  },
  {
   "cell_type": "code",
   "execution_count": null,
   "id": "9ab4f039",
   "metadata": {},
   "outputs": [],
   "source": [
    "def create_false_sample(false_sample):\n",
    "    false_sample.loc[i,'time'] = np.random.choice(atm_times_pd)\n",
    "    false_sample.loc[i,'cand_lon'] = np.random.choice(lons1[30:len(lats1)-30])\n",
    "    false_sample.loc[i,'cand_lat'] = np.random.choice(lats1[30:len(lats1)-30])\n",
    "    \n",
    "    lon_min = -27.85531\n",
    "    lon_max = 4.829739\n",
    "    lat_min = 61.794632\n",
    "    lat_max = 68.39437\n",
    "    \n",
    "    lat_min_diff = false_sample.loc[i,'cand_lat'] - lat_min\n",
    "    lat_max_diff = lat_max - false_sample.loc[i,'cand_lat']\n",
    "    lon_max_diff = lon_max - false_sample.loc[i,'cand_lon']\n",
    "    lon_min_diff = false_sample.loc[i,'cand_lon'] - lon_min\n",
    "    \n",
    "    border = np.min([lat_min_diff, lat_max_diff, lon_max_diff, lon_min_diff]) * 2 * 112\n",
    "    \n",
    "    if border>1000:\n",
    "        border =1000\n",
    "        false_sample.loc[i,'diam'] = np.random.choice(np.arange(600,border,1))\n",
    "    elif border>700:\n",
    "        false_sample.loc[i,'diam'] = np.random.choice(np.arange(400,border,1))\n",
    "    elif border>400:\n",
    "        false_sample.loc[i,'diam'] = np.random.choice(np.arange(300,border,1))\n",
    "    \n",
    "    false_sample.loc[i,'diam'] = np.random.choice(np.arange(200,border,0.1))"
   ]
  },
  {
   "cell_type": "code",
   "execution_count": null,
   "id": "efd688d6",
   "metadata": {
    "scrolled": true
   },
   "outputs": [],
   "source": [
    "for i in false_sample.index:\n",
    "    create_false_sample(false_sample)"
   ]
  },
  {
   "cell_type": "code",
   "execution_count": null,
   "id": "3dc2193f",
   "metadata": {},
   "outputs": [],
   "source": [
    "false_sample.to_csv('test_false_sample.csv')"
   ]
  }
 ],
 "metadata": {
  "kernelspec": {
   "display_name": "Python 3 (ipykernel)",
   "language": "python",
   "name": "python3"
  },
  "language_info": {
   "codemirror_mode": {
    "name": "ipython",
    "version": 3
   },
   "file_extension": ".py",
   "mimetype": "text/x-python",
   "name": "python",
   "nbconvert_exporter": "python",
   "pygments_lexer": "ipython3",
   "version": "3.9.13"
  }
 },
 "nbformat": 4,
 "nbformat_minor": 5
}
