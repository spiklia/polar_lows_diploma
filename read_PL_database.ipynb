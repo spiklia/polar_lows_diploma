{
 "cells": [
  {
   "cell_type": "code",
   "execution_count": null,
   "id": "06e42dbd",
   "metadata": {},
   "outputs": [],
   "source": [
    "import pandas as pd\n",
    "import wrf\n",
    "import glob\n",
    "import numpy as np\n",
    "import os\n",
    "import netCDF4 as nc\n",
    "from pylab import *\n",
    "import cartopy.crs as ccrs\n",
    "import cartopy.feature as cfeature\n",
    "import warnings\n",
    "from geographiclib.geodesic import Geodesic\n",
    "Geo = Geodesic.WGS84\n",
    "\n",
    "warnings.filterwarnings('ignore')"
   ]
  },
  {
   "cell_type": "code",
   "execution_count": null,
   "id": "833e54f8",
   "metadata": {},
   "outputs": [],
   "source": [
    "filedir = '../Data/originals/'\n",
    "filename = []\n",
    "filename += glob.glob(filedir+os.sep+'*_cut.nc')"
   ]
  },
  {
   "cell_type": "code",
   "execution_count": null,
   "id": "cfcd6276",
   "metadata": {},
   "outputs": [],
   "source": [
    "ncdf = nc.Dataset(filename[0],engine='netcdf4')"
   ]
  },
  {
   "cell_type": "code",
   "execution_count": null,
   "id": "a7d85dcd",
   "metadata": {},
   "outputs": [],
   "source": [
    "lons = wrf.getvar(ncdf, 'XLONG')\n",
    "lats = wrf.getvar(ncdf, 'XLAT')"
   ]
  },
  {
   "cell_type": "code",
   "execution_count": null,
   "id": "14e44c11",
   "metadata": {},
   "outputs": [],
   "source": [
    "df = pd.read_csv('tracks_new.csv', sep=',', index_col = 0)\n",
    "df.reset_index(drop=True, inplace=True)\n",
    "df['time'] = pd.to_datetime(df['time'])"
   ]
  },
  {
   "cell_type": "code",
   "execution_count": null,
   "id": "7b054f0f",
   "metadata": {},
   "outputs": [],
   "source": [
    "atm_times = np.load('times.npy')\n",
    "atm_times = np.reshape(atm_times, 3551*8)\n",
    "atm_times_pd = []\n",
    "\n",
    "for i in range(atm_times.shape[0]):\n",
    "    atm_times_pd.append(pd.Timestamp(atm_times[i]))\n",
    "\n",
    "pl_times = list(df['time'])\n",
    "both = set(atm_times_pd).intersection(pl_times)\n",
    "\n",
    "df = df[df['datetime'].isin(both)]"
   ]
  },
  {
   "cell_type": "code",
   "execution_count": null,
   "id": "7c4f158d",
   "metadata": {},
   "outputs": [],
   "source": [
    "atm_indexes = np.load('indices_atm_times.npy')"
   ]
  },
  {
   "cell_type": "code",
   "execution_count": null,
   "id": "360be2e2",
   "metadata": {},
   "outputs": [],
   "source": [
    "var_names = [\n",
    "             'hfx',\n",
    "             'mcao500',\n",
    "             'mcao700',\n",
    "             'Th500',\n",
    "             'SST500',\n",
    "             'T700',\n",
    "             'wind10',\n",
    "             'Th500_sst',\n",
    "             'Th700',\n",
    "             'Th850',\n",
    "             'wind_t',\n",
    "             'Th700_sst',\n",
    "             'Th900_sst',\n",
    "             'avo850',\n",
    "             'pvo400'\n",
    "             \n",
    "]         "
   ]
  },
  {
   "cell_type": "code",
   "execution_count": null,
   "id": "7cb4076e",
   "metadata": {
    "scrolled": true
   },
   "outputs": [],
   "source": [
    "# fig,ax = make_cartopy()\n",
    "for i in range(len(var_names)):\n",
    "    print(var_names[i])\n",
    "    var = np.asarray(np.load(f'{var_names[i]}.npy'))\n",
    "    var = var.reshape(2334*8, 83,162)\n",
    "    var = var[atm_indexes, :,:]\n",
    "    cycl_data = []\n",
    "    cycl_masked = []\n",
    "    masks = []\n",
    "    t = 0\n",
    "    for ind,group in df.groupby(['time']):\n",
    "        lat = group.lat0.values # широта и долгота каждого центра циклона\n",
    "        lon = group.lon0.values\n",
    "        diam = group.diam.values\n",
    "        for case in range(len(lon)):\n",
    "            dist = np.zeros_like(lats)\n",
    "            for xx in range(lats.shape[0]):\n",
    "                for yy in range(lats.shape[1]): # lons, lats - это переменные массива ворфа\n",
    "                    dist[xx,yy] = Geo.Inverse(lon[case], lat[case], lons[xx,yy], lats[xx,yy])['s12']       \n",
    "            mt = np.ma.masked_where((dist/1000)>(diam[case]/2), var[t,:,:].reshape((83,162)))\n",
    "            cycl_data.append(mt[mt.mask == False])\n",
    "            masks.append(mt.mask)\n",
    "                \n",
    "        t += 1\n",
    "    np.save(arr = np.asarray(cycl_data), file = f'{var_names[i]}_cycl_data_false.npy', allow_pickle = True)\n",
    "#     np.save(arr = np.asarray(masks), file = 'masks_pl_fin.npy', allow_pickle = True)"
   ]
  }
 ],
 "metadata": {
  "kernelspec": {
   "display_name": "Python 3 (ipykernel)",
   "language": "python",
   "name": "python3"
  },
  "language_info": {
   "codemirror_mode": {
    "name": "ipython",
    "version": 3
   },
   "file_extension": ".py",
   "mimetype": "text/x-python",
   "name": "python",
   "nbconvert_exporter": "python",
   "pygments_lexer": "ipython3",
   "version": "3.9.13"
  }
 },
 "nbformat": 4,
 "nbformat_minor": 5
}
